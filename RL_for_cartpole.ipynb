{
  "nbformat": 4,
  "nbformat_minor": 0,
  "metadata": {
    "colab": {
      "provenance": []
    },
    "kernelspec": {
      "name": "python3",
      "display_name": "Python 3"
    },
    "language_info": {
      "name": "python"
    }
  },
  "cells": [
    {
      "cell_type": "code",
      "execution_count": 4,
      "metadata": {
        "id": "kbG-ES6zcdiO"
      },
      "outputs": [],
      "source": [
        "!pip install -q gymnasium matplotlib"
      ]
    },
    {
      "cell_type": "code",
      "source": [
        "import gymnasium as gym\n",
        "import tensorflow as tf\n",
        "import numpy as np\n",
        "import matplotlib.pyplot as plt"
      ],
      "metadata": {
        "id": "c1xStg1ncfFQ"
      },
      "execution_count": 5,
      "outputs": []
    },
    {
      "cell_type": "code",
      "source": [
        "\n",
        "env = gym.make('CartPole-v1', render_mode='rgb_array')\n",
        "\n",
        "print(\"Some information about this environment:\")\n",
        "print('Observation space:', env.observation_space)\n",
        "print('Action space:', env.action_space)\n",
        "\n",
        "obs, _ = env.reset()\n",
        "print('Initial observation:', obs)\n",
        "\n",
        "action = env.action_space.sample()\n",
        "obs, r, terminated, truncated, info = env.step(action)\n",
        "print('Next observation:', obs)\n",
        "print('Reward:', r)\n",
        "print('Terminated:', terminated)\n",
        "print('Truncated:', truncated)\n",
        "print('Info:', info)\n",
        "\n",
        "frame = env.render()\n",
        "plt.imshow(frame)\n",
        "plt.axis('off')\n",
        "plt.show()"
      ],
      "metadata": {
        "colab": {
          "base_uri": "https://localhost:8080/",
          "height": 523
        },
        "id": "4cQcBbF0f-Eo",
        "outputId": "102f28ab-f221-4f5d-a586-6c881d51dab8"
      },
      "execution_count": 6,
      "outputs": [
        {
          "output_type": "stream",
          "name": "stdout",
          "text": [
            "Some information about this environment:\n",
            "Observation space: Box([-4.8000002e+00 -3.4028235e+38 -4.1887903e-01 -3.4028235e+38], [4.8000002e+00 3.4028235e+38 4.1887903e-01 3.4028235e+38], (4,), float32)\n",
            "Action space: Discrete(2)\n",
            "Initial observation: [-0.02553473 -0.02606928 -0.02018729  0.00981744]\n",
            "Next observation: [-0.02605611 -0.22089598 -0.01999094  0.2960633 ]\n",
            "Reward: 1.0\n",
            "Terminated: False\n",
            "Truncated: False\n",
            "Info: {}\n"
          ]
        },
        {
          "output_type": "display_data",
          "data": {
            "text/plain": [
              "<Figure size 640x480 with 1 Axes>"
            ],
            "image/png": "[encoded data removed]"
          },
          "metadata": {}
        }
      ]
    },
    {
      "cell_type": "code",
      "source": [
        "class PolicyNetwork(tf.keras.Model):\n",
        "    def __init__(self, num_actions, hidden_size):\n",
        "        super(PolicyNetwork, self).__init__()\n",
        "        self.dense1 = tf.keras.layers.Dense(hidden_size, activation='relu')\n",
        "        self.dense2 = tf.keras.layers.Dense(hidden_size, activation='relu')\n",
        "        self.out = tf.keras.layers.Dense(num_actions, activation='softmax')\n",
        "\n",
        "    def call(self, inputs):\n",
        "        x = self.dense1(inputs)\n",
        "        x = self.dense2(x)\n",
        "        return self.out(x)\n",
        "\n",
        "model = PolicyNetwork(env.action_space.n, 128)\n",
        "optimizer = tf.keras.optimizers.Adam(learning_rate=0.01)"
      ],
      "metadata": {
        "id": "cC6gsH-9gIox"
      },
      "execution_count": 7,
      "outputs": []
    },
    {
      "cell_type": "code",
      "source": [
        "def train_step(observations, actions, rewards):\n",
        "    with tf.GradientTape() as tape:\n",
        "        logits = model(observations)\n",
        "        action_masks = tf.one_hot(actions, env.action_space.n)\n",
        "        log_probs = tf.reduce_sum(action_masks * tf.math.log(logits), axis=1)\n",
        "        loss = -tf.reduce_mean(log_probs * rewards)\n",
        "\n",
        "    grads = tape.gradient(loss, model.trainable_variables)\n",
        "    optimizer.apply_gradients(zip(grads, model.trainable_variables))\n",
        "    return loss\n",
        "\n",
        "def run_episode():\n",
        "    observations, actions, rewards = [], [], []\n",
        "    obs, _ = env.reset()\n",
        "    done = False\n",
        "\n",
        "    while not done:\n",
        "        obs = tf.convert_to_tensor(obs, dtype=tf.float32)\n",
        "        action_probs = model(obs[tf.newaxis, ...])\n",
        "        action = tf.random.categorical(tf.math.log(action_probs), 1)[0, 0].numpy()\n",
        "\n",
        "\n",
        "        action = np.clip(action, 0, env.action_space.n - 1)\n",
        "\n",
        "        next_obs, reward, terminated, truncated, _ = env.step(action)\n",
        "        done = terminated or truncated\n",
        "\n",
        "        observations.append(obs)\n",
        "        actions.append(action)\n",
        "        rewards.append(reward)\n",
        "\n",
        "        obs = next_obs\n",
        "\n",
        "    return observations, actions, rewards"
      ],
      "metadata": {
        "id": "83zqzjIYgPWi"
      },
      "execution_count": 10,
      "outputs": []
    },
    {
      "cell_type": "code",
      "source": [
        "num_episodes = 1000\n",
        "for episode in range(num_episodes):\n",
        "    observations, actions, rewards = run_episode()\n",
        "\n",
        "\n",
        "    discounted_rewards = []\n",
        "    cumulative_reward = 0\n",
        "    for reward in reversed(rewards):\n",
        "        cumulative_reward = reward + 0.99 * cumulative_reward\n",
        "        discounted_rewards.insert(0, cumulative_reward)\n",
        "\n",
        "    discounted_rewards = (discounted_rewards - np.mean(discounted_rewards)) / (np.std(discounted_rewards) + 1e-8)\n",
        "\n",
        "    observations = tf.convert_to_tensor(observations, dtype=tf.float32)\n",
        "    actions = tf.convert_to_tensor(actions, dtype=tf.int32)\n",
        "    discounted_rewards = tf.convert_to_tensor(discounted_rewards, dtype=tf.float32)\n",
        "\n",
        "    loss = train_step(observations, actions, discounted_rewards)\n",
        "\n",
        "    if episode % 10 == 0:\n",
        "        print(f\"Episode {episode}, Total Reward: {sum(rewards)}, Loss: {loss.numpy()}\")\n",
        "\n",
        "    if sum(rewards) >= 195:\n",
        "        print(f\"Solved in {episode} episodes!\")\n",
        "        break"
      ],
      "metadata": {
        "colab": {
          "base_uri": "https://localhost:8080/"
        },
        "id": "ng6FFPGTgUmF",
        "outputId": "ee36e201-9b7a-4607-c7e4-100b2ce14f48"
      },
      "execution_count": 11,
      "outputs": [
        {
          "output_type": "stream",
          "name": "stdout",
          "text": [
            "Episode 0, Total Reward: 10.0, Loss: nan\n",
            "Episode 10, Total Reward: 10.0, Loss: nan\n",
            "Episode 20, Total Reward: 9.0, Loss: nan\n",
            "Episode 30, Total Reward: 8.0, Loss: nan\n",
            "Episode 40, Total Reward: 8.0, Loss: nan\n",
            "Episode 50, Total Reward: 9.0, Loss: nan\n",
            "Episode 60, Total Reward: 10.0, Loss: nan\n",
            "Episode 70, Total Reward: 11.0, Loss: nan\n",
            "Episode 80, Total Reward: 10.0, Loss: nan\n",
            "Episode 90, Total Reward: 8.0, Loss: nan\n",
            "Episode 100, Total Reward: 9.0, Loss: nan\n",
            "Episode 110, Total Reward: 10.0, Loss: nan\n",
            "Episode 120, Total Reward: 10.0, Loss: nan\n",
            "Episode 130, Total Reward: 8.0, Loss: nan\n",
            "Episode 140, Total Reward: 9.0, Loss: nan\n",
            "Episode 150, Total Reward: 11.0, Loss: nan\n",
            "Episode 160, Total Reward: 10.0, Loss: nan\n",
            "Episode 170, Total Reward: 10.0, Loss: nan\n",
            "Episode 180, Total Reward: 9.0, Loss: nan\n",
            "Episode 190, Total Reward: 10.0, Loss: nan\n",
            "Episode 200, Total Reward: 10.0, Loss: nan\n",
            "Episode 210, Total Reward: 8.0, Loss: nan\n",
            "Episode 220, Total Reward: 8.0, Loss: nan\n",
            "Episode 230, Total Reward: 9.0, Loss: nan\n",
            "Episode 240, Total Reward: 8.0, Loss: nan\n",
            "Episode 250, Total Reward: 8.0, Loss: nan\n",
            "Episode 260, Total Reward: 10.0, Loss: nan\n",
            "Episode 270, Total Reward: 10.0, Loss: nan\n",
            "Episode 280, Total Reward: 10.0, Loss: nan\n",
            "Episode 290, Total Reward: 8.0, Loss: nan\n",
            "Episode 300, Total Reward: 8.0, Loss: nan\n",
            "Episode 310, Total Reward: 8.0, Loss: nan\n",
            "Episode 320, Total Reward: 8.0, Loss: nan\n",
            "Episode 330, Total Reward: 11.0, Loss: nan\n",
            "Episode 340, Total Reward: 10.0, Loss: nan\n",
            "Episode 350, Total Reward: 10.0, Loss: nan\n",
            "Episode 360, Total Reward: 9.0, Loss: nan\n",
            "Episode 370, Total Reward: 9.0, Loss: nan\n",
            "Episode 380, Total Reward: 10.0, Loss: nan\n",
            "Episode 390, Total Reward: 8.0, Loss: nan\n",
            "Episode 400, Total Reward: 10.0, Loss: nan\n",
            "Episode 410, Total Reward: 10.0, Loss: nan\n",
            "Episode 420, Total Reward: 10.0, Loss: nan\n",
            "Episode 430, Total Reward: 10.0, Loss: nan\n",
            "Episode 440, Total Reward: 9.0, Loss: nan\n",
            "Episode 450, Total Reward: 11.0, Loss: nan\n",
            "Episode 460, Total Reward: 9.0, Loss: nan\n",
            "Episode 470, Total Reward: 9.0, Loss: nan\n",
            "Episode 480, Total Reward: 10.0, Loss: nan\n",
            "Episode 490, Total Reward: 10.0, Loss: nan\n",
            "Episode 500, Total Reward: 9.0, Loss: nan\n",
            "Episode 510, Total Reward: 9.0, Loss: nan\n",
            "Episode 520, Total Reward: 10.0, Loss: nan\n",
            "Episode 530, Total Reward: 8.0, Loss: nan\n",
            "Episode 540, Total Reward: 9.0, Loss: nan\n",
            "Episode 550, Total Reward: 10.0, Loss: nan\n",
            "Episode 560, Total Reward: 8.0, Loss: nan\n",
            "Episode 570, Total Reward: 10.0, Loss: nan\n",
            "Episode 580, Total Reward: 9.0, Loss: nan\n",
            "Episode 590, Total Reward: 10.0, Loss: nan\n",
            "Episode 600, Total Reward: 10.0, Loss: nan\n",
            "Episode 610, Total Reward: 8.0, Loss: nan\n",
            "Episode 620, Total Reward: 9.0, Loss: nan\n",
            "Episode 630, Total Reward: 9.0, Loss: nan\n",
            "Episode 640, Total Reward: 9.0, Loss: nan\n",
            "Episode 650, Total Reward: 10.0, Loss: nan\n",
            "Episode 660, Total Reward: 9.0, Loss: nan\n",
            "Episode 670, Total Reward: 10.0, Loss: nan\n",
            "Episode 680, Total Reward: 9.0, Loss: nan\n",
            "Episode 690, Total Reward: 9.0, Loss: nan\n",
            "Episode 700, Total Reward: 8.0, Loss: nan\n",
            "Episode 710, Total Reward: 10.0, Loss: nan\n",
            "Episode 720, Total Reward: 10.0, Loss: nan\n",
            "Episode 730, Total Reward: 10.0, Loss: nan\n",
            "Episode 740, Total Reward: 10.0, Loss: nan\n",
            "Episode 750, Total Reward: 9.0, Loss: nan\n",
            "Episode 760, Total Reward: 10.0, Loss: nan\n",
            "Episode 770, Total Reward: 9.0, Loss: nan\n",
            "Episode 780, Total Reward: 9.0, Loss: nan\n",
            "Episode 790, Total Reward: 10.0, Loss: nan\n",
            "Episode 800, Total Reward: 9.0, Loss: nan\n",
            "Episode 810, Total Reward: 8.0, Loss: nan\n",
            "Episode 820, Total Reward: 9.0, Loss: nan\n",
            "Episode 830, Total Reward: 10.0, Loss: nan\n",
            "Episode 840, Total Reward: 10.0, Loss: nan\n",
            "Episode 850, Total Reward: 9.0, Loss: nan\n",
            "Episode 860, Total Reward: 10.0, Loss: nan\n",
            "Episode 870, Total Reward: 10.0, Loss: nan\n",
            "Episode 880, Total Reward: 10.0, Loss: nan\n",
            "Episode 890, Total Reward: 9.0, Loss: nan\n",
            "Episode 900, Total Reward: 8.0, Loss: nan\n",
            "Episode 910, Total Reward: 9.0, Loss: nan\n",
            "Episode 920, Total Reward: 9.0, Loss: nan\n",
            "Episode 930, Total Reward: 9.0, Loss: nan\n",
            "Episode 940, Total Reward: 10.0, Loss: nan\n",
            "Episode 950, Total Reward: 8.0, Loss: nan\n",
            "Episode 960, Total Reward: 8.0, Loss: nan\n",
            "Episode 970, Total Reward: 9.0, Loss: nan\n",
            "Episode 980, Total Reward: 10.0, Loss: nan\n",
            "Episode 990, Total Reward: 10.0, Loss: nan\n"
          ]
        }
      ]
    },
    {
      "cell_type": "code",
      "source": [
        "\n",
        "test_rewards = []\n",
        "for _ in range(100):\n",
        "    _, _, rewards = run_episode()\n",
        "    test_rewards.append(sum(rewards))\n",
        "\n",
        "plt.hist(test_rewards, bins=20)\n",
        "plt.xlabel('Total Reward')\n",
        "plt.ylabel('Frequency')\n",
        "plt.title('Distribution of Rewards in Test Episodes')\n",
        "plt.show()\n",
        "\n",
        "print(f\"Average Reward over 100 test episodes: {np.mean(test_rewards)}\")"
      ],
      "metadata": {
        "colab": {
          "base_uri": "https://localhost:8080/",
          "height": 489
        },
        "id": "cHqg700yhbp9",
        "outputId": "1c6e846d-5a8d-4dbc-c440-03af9931d347"
      },
      "execution_count": 12,
      "outputs": [
        {
          "output_type": "display_data",
          "data": {
            "text/plain": [
              "<Figure size 640x480 with 1 Axes>"
            ],
            "image/png": "[encoded data removed]"
          },
          "metadata": {}
        },
        {
          "output_type": "stream",
          "name": "stdout",
          "text": [
            "Average Reward over 100 test episodes: 9.21\n"
          ]
        }
      ]
    },
    {
      "cell_type": "code",
      "source": [],
      "metadata": {
        "id": "gbZ3P0OyiK-A"
      },
      "execution_count": null,
      "outputs": []
    }
  ]
}